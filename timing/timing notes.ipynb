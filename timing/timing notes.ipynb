{
 "cells": [
  {
   "cell_type": "markdown",
   "metadata": {},
   "source": [
    "这份笔记介绍了如果在python端进行计时操作"
   ]
  },
  {
   "cell_type": "markdown",
   "metadata": {},
   "source": [
    "## time的计时和时间格式转换"
   ]
  },
  {
   "cell_type": "code",
   "execution_count": 1,
   "metadata": {},
   "outputs": [
    {
     "name": "stdout",
     "output_type": "stream",
     "text": [
      "time is 1562581617.2800376\n"
     ]
    }
   ],
   "source": [
    "import time\n",
    "# 从1970年到现在经过的秒数\n",
    "ticks = time.time()\n",
    "print('time is {}'.format(ticks))"
   ]
  },
  {
   "cell_type": "code",
   "execution_count": 2,
   "metadata": {},
   "outputs": [
    {
     "name": "stdout",
     "output_type": "stream",
     "text": [
      "1.0017249584197998\n"
     ]
    }
   ],
   "source": [
    "time1 = time.time()\n",
    "# 睡眠一秒\n",
    "time.sleep(1)\n",
    "time2 = time.time()\n",
    "print('{}'.format(time2 - time1))"
   ]
  },
  {
   "cell_type": "code",
   "execution_count": 3,
   "metadata": {},
   "outputs": [
    {
     "name": "stdout",
     "output_type": "stream",
     "text": [
      "time.struct_time(tm_year=2019, tm_mon=7, tm_mday=8, tm_hour=10, tm_min=26, tm_sec=58, tm_wday=0, tm_yday=189, tm_isdst=0)\n"
     ]
    }
   ],
   "source": [
    "t = time.localtime(time.time()) # or time.localtime()\n",
    "print(t)"
   ]
  },
  {
   "cell_type": "code",
   "execution_count": 4,
   "metadata": {},
   "outputs": [
    {
     "data": {
      "text/plain": [
       "2019"
      ]
     },
     "execution_count": 4,
     "metadata": {},
     "output_type": "execute_result"
    }
   ],
   "source": [
    "t.tm_year"
   ]
  },
  {
   "cell_type": "code",
   "execution_count": 5,
   "metadata": {},
   "outputs": [
    {
     "data": {
      "text/plain": [
       "'2019-07-08 10:26:58'"
      ]
     },
     "execution_count": 5,
     "metadata": {},
     "output_type": "execute_result"
    }
   ],
   "source": [
    "time.strftime('%Y-%m-%d %H:%M:%S', time.localtime())"
   ]
  },
  {
   "cell_type": "markdown",
   "metadata": {},
   "source": [
    "上述时间的表示形式：**在docs目录有资料，是网页的pdf**\n",
    "\n",
    "`%y`: 两位数的年份表示00-99\n",
    "\n",
    "`%Y`: 四位数的年份表示0000-9999\n",
    "\n",
    "%m: 月份 01-12\n",
    "\n",
    "%d: 天\n",
    "\n",
    "%H: 24小时制小时\n",
    "\n",
    "%I: 12小时制小时\n",
    "\n",
    "%M: 分钟数\n",
    "\n",
    "%S: 秒\n",
    "\n",
    "%a 本地简化星期\n",
    "\n",
    "%A 本地完整星期\n",
    "\n",
    "%b 本地简化月份\n",
    "\n",
    "%B 本地完整月份\n",
    "\n",
    "%c 本地响应的日期表示和时间表示\n",
    "\n",
    "%j 年内的一天 1-366\n",
    "\n",
    "%p 本地A.M或P.M.等价符\n",
    "\n",
    "%U 一年中的星期数\n",
    "\n",
    "%w 星期，星期天为星期的开始 0-6\n",
    "\n",
    "%W 一年中的星期数，星期一为星期的开始\n",
    "\n",
    "%x 本地相应的日期表示\n",
    "\n",
    "%X 本地相应的时间表示\n",
    "\n",
    "%Z 当前时区的名称\n",
    "\n",
    "%% %符号"
   ]
  },
  {
   "cell_type": "code",
   "execution_count": 6,
   "metadata": {},
   "outputs": [
    {
     "data": {
      "text/plain": [
       "time.struct_time(tm_year=2011, tm_mon=5, tm_mday=6, tm_hour=16, tm_min=47, tm_sec=6, tm_wday=4, tm_yday=126, tm_isdst=-1)"
      ]
     },
     "execution_count": 6,
     "metadata": {},
     "output_type": "execute_result"
    }
   ],
   "source": [
    "# time.strftime的拟操作是time.strptime。前者的f表示format，后者的p表示presentation\n",
    "time.strptime('2011-05-06 16:47:06', '%Y-%m-%d %X')"
   ]
  },
  {
   "cell_type": "code",
   "execution_count": 7,
   "metadata": {},
   "outputs": [
    {
     "name": "stdout",
     "output_type": "stream",
     "text": [
      "     March 2016\n",
      "Mo Tu We Th Fr Sa Su\n",
      "    1  2  3  4  5  6\n",
      " 7  8  9 10 11 12 13\n",
      "14 15 16 17 18 19 20\n",
      "21 22 23 24 25 26 27\n",
      "28 29 30 31\n",
      "\n"
     ]
    }
   ],
   "source": [
    "import calendar\n",
    "cal = calendar.month(2016, 3)\n",
    "print(cal)"
   ]
  },
  {
   "cell_type": "markdown",
   "metadata": {},
   "source": [
    "## 使用timeit模块计时"
   ]
  },
  {
   "cell_type": "code",
   "execution_count": 9,
   "metadata": {},
   "outputs": [],
   "source": [
    "import timeit"
   ]
  },
  {
   "cell_type": "code",
   "execution_count": 10,
   "metadata": {},
   "outputs": [
    {
     "data": {
      "text/plain": [
       "0.007731559999683668"
      ]
     },
     "execution_count": 10,
     "metadata": {},
     "output_type": "execute_result"
    }
   ],
   "source": [
    "timeit.timeit('4 + 2')"
   ]
  },
  {
   "cell_type": "code",
   "execution_count": 22,
   "metadata": {},
   "outputs": [
    {
     "data": {
      "text/plain": [
       "0.004966420000073413"
      ]
     },
     "execution_count": 22,
     "metadata": {},
     "output_type": "execute_result"
    }
   ],
   "source": [
    "timeit.timeit('[x for x in range(100)]', number=1000)"
   ]
  },
  {
   "cell_type": "code",
   "execution_count": 25,
   "metadata": {},
   "outputs": [
    {
     "data": {
      "text/plain": [
       "8.62300021253759e-06"
      ]
     },
     "execution_count": 25,
     "metadata": {},
     "output_type": "execute_result"
    }
   ],
   "source": [
    "# number=x 表示重复执行x次，**不会取平均，会求和**\n",
    "timeit.timeit(lambda: [x for x in range(100)], number=10000)"
   ]
  },
  {
   "cell_type": "code",
   "execution_count": 27,
   "metadata": {},
   "outputs": [],
   "source": [
    "def myfunc():\n",
    "    time.sleep(1)"
   ]
  },
  {
   "cell_type": "code",
   "execution_count": 28,
   "metadata": {},
   "outputs": [
    {
     "data": {
      "text/plain": [
       "1.0029999309999766"
      ]
     },
     "execution_count": 28,
     "metadata": {},
     "output_type": "execute_result"
    }
   ],
   "source": [
    "timeit.timeit(myfunc, number=1)"
   ]
  },
  {
   "cell_type": "markdown",
   "metadata": {},
   "source": [
    "### 对于命令行界面\n",
    "\n",
    "`python -m timeit [-n N] [-r N] [-u U] [-s S] [-h] [statement ...]`\n",
    "\n",
    "-n N, --number=N\n",
    "执行 '语句' 多少次\n",
    "\n",
    "-r N, --repeat=N\n",
    "重复计时器的次数（默认为5）\n",
    "\n",
    "-s S, --setup=S\n",
    "最初要执行一次的语句（默认为 pass ）\n",
    "\n",
    "-p, --process\n",
    "测量进程时间，而不是 wallclock 时间，使用 time.process_time() 而不是 time.perf_counter() ，这是默认值\n",
    "\n",
    "3.3 新版功能.\n",
    "\n",
    "-u, --unit=U\n",
    "指定定时器输出的时间单位；可以选择 nsec，usec，msec或sec\n",
    "\n",
    "3.5 新版功能.\n",
    "\n",
    "-v, --verbose\n",
    "打印原始计时结果；重复更多位数精度\n",
    "\n",
    "-h, --help\n",
    "打印一条简短的使用信息并退出"
   ]
  },
  {
   "cell_type": "markdown",
   "metadata": {},
   "source": [
    "## 使用自定义的装饰器"
   ]
  },
  {
   "cell_type": "code",
   "execution_count": 43,
   "metadata": {},
   "outputs": [],
   "source": [
    "def justtimeit(func):\n",
    "    '''\n",
    "    @usage\n",
    "    >>> @justtimeif\n",
    "    ... def func(...):\n",
    "    ...     pass\n",
    "    \n",
    "    use the decorator and define your function as above\n",
    "    '''\n",
    "    def wrapper(*arg, **karg):\n",
    "        time1 = time.time()\n",
    "        ret = func(*arg, **karg)\n",
    "        time2 = time.time()\n",
    "        print('[justtimeit] {}'.format(time2 - time1))\n",
    "        return ret\n",
    "    return wrapper"
   ]
  },
  {
   "cell_type": "code",
   "execution_count": 44,
   "metadata": {},
   "outputs": [],
   "source": [
    "@justtimeit\n",
    "def helloworld(name):\n",
    "    print('hello {}'.format(name))\n",
    "    return len(name)"
   ]
  },
  {
   "cell_type": "code",
   "execution_count": 45,
   "metadata": {
    "scrolled": false
   },
   "outputs": [
    {
     "name": "stdout",
     "output_type": "stream",
     "text": [
      "hello yb\n",
      "[justtimeit] 0.00017261505126953125\n"
     ]
    },
    {
     "data": {
      "text/plain": [
       "2"
      ]
     },
     "execution_count": 45,
     "metadata": {},
     "output_type": "execute_result"
    }
   ],
   "source": [
    "helloworld('yb')"
   ]
  },
  {
   "cell_type": "code",
   "execution_count": null,
   "metadata": {},
   "outputs": [],
   "source": []
  }
 ],
 "metadata": {
  "kernelspec": {
   "display_name": "Python 3",
   "language": "python",
   "name": "python3"
  },
  "language_info": {
   "codemirror_mode": {
    "name": "ipython",
    "version": 3
   },
   "file_extension": ".py",
   "mimetype": "text/x-python",
   "name": "python",
   "nbconvert_exporter": "python",
   "pygments_lexer": "ipython3",
   "version": "3.7.3"
  }
 },
 "nbformat": 4,
 "nbformat_minor": 2
}
