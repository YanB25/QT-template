{
 "cells": [
  {
   "cell_type": "code",
   "execution_count": 2,
   "metadata": {},
   "outputs": [],
   "source": [
    "import pysnooper"
   ]
  },
  {
   "cell_type": "code",
   "execution_count": 5,
   "metadata": {},
   "outputs": [],
   "source": [
    "@pysnooper.snoop()\n",
    "def factory(i):\n",
    "    if i == 0:\n",
    "        return 1\n",
    "    return i * factory(i-1)"
   ]
  },
  {
   "cell_type": "code",
   "execution_count": 6,
   "metadata": {},
   "outputs": [
    {
     "name": "stderr",
     "output_type": "stream",
     "text": [
      "Starting var:.. i = 3\n",
      "15:14:35.163700 call         2 def factory(i):\n",
      "15:14:35.163912 line         3     if i == 0:\n",
      "15:14:35.164017 line         5     return i * factory(i-1)\n",
      "    Starting var:.. i = 2\n",
      "    15:14:35.164191 call         2 def factory(i):\n",
      "    15:14:35.164287 line         3     if i == 0:\n",
      "    15:14:35.164374 line         5     return i * factory(i-1)\n",
      "        Starting var:.. i = 1\n",
      "        15:14:35.164536 call         2 def factory(i):\n",
      "        15:14:35.164630 line         3     if i == 0:\n",
      "        15:14:35.164716 line         5     return i * factory(i-1)\n",
      "            Starting var:.. i = 0\n",
      "            15:14:35.164876 call         2 def factory(i):\n",
      "            15:14:35.164969 line         3     if i == 0:\n",
      "            15:14:35.165055 line         4         return 1\n",
      "            15:14:35.165141 return       4         return 1\n",
      "            Return value:.. 1\n",
      "        15:14:35.165366 return       5     return i * factory(i-1)\n",
      "        Return value:.. 1\n",
      "    15:14:35.166366 return       5     return i * factory(i-1)\n",
      "    Return value:.. 2\n",
      "15:14:35.166699 return       5     return i * factory(i-1)\n",
      "Return value:.. 6\n"
     ]
    },
    {
     "data": {
      "text/plain": [
       "6"
      ]
     },
     "execution_count": 6,
     "metadata": {},
     "output_type": "execute_result"
    }
   ],
   "source": [
    "factory(3)"
   ]
  },
  {
   "cell_type": "code",
   "execution_count": 9,
   "metadata": {},
   "outputs": [],
   "source": [
    "@pysnooper.snoop()\n",
    "def gcd(a, b):\n",
    "    if b == 0:\n",
    "        return a\n",
    "    return gcd(b, a % b)"
   ]
  },
  {
   "cell_type": "code",
   "execution_count": 10,
   "metadata": {},
   "outputs": [
    {
     "name": "stderr",
     "output_type": "stream",
     "text": [
      "Starting var:.. a = 8\n",
      "Starting var:.. b = 14\n",
      "15:16:25.251675 call         2 def gcd(a, b):\n",
      "15:16:25.251816 line         3     if b == 0:\n",
      "15:16:25.251897 line         5     return gcd(b, a % b)\n",
      "    Starting var:.. a = 14\n",
      "    Starting var:.. b = 8\n",
      "    15:16:25.252088 call         2 def gcd(a, b):\n",
      "    15:16:25.252446 line         3     if b == 0:\n",
      "    15:16:25.252574 line         5     return gcd(b, a % b)\n",
      "        Starting var:.. a = 8\n",
      "        Starting var:.. b = 6\n",
      "        15:16:25.252761 call         2 def gcd(a, b):\n",
      "        15:16:25.252848 line         3     if b == 0:\n",
      "        15:16:25.252930 line         5     return gcd(b, a % b)\n",
      "            Starting var:.. a = 6\n",
      "            Starting var:.. b = 2\n",
      "            15:16:25.253638 call         2 def gcd(a, b):\n",
      "            15:16:25.253883 line         3     if b == 0:\n",
      "            15:16:25.253969 line         5     return gcd(b, a % b)\n",
      "                Starting var:.. a = 2\n",
      "                Starting var:.. b = 0\n",
      "                15:16:25.254181 call         2 def gcd(a, b):\n",
      "                15:16:25.259700 line         3     if b == 0:\n",
      "                15:16:25.259854 line         4         return a\n",
      "                15:16:25.259948 return       4         return a\n",
      "                Return value:.. 2\n",
      "            15:16:25.260081 return       5     return gcd(b, a % b)\n",
      "            Return value:.. 2\n",
      "        15:16:25.260200 return       5     return gcd(b, a % b)\n",
      "        Return value:.. 2\n",
      "    15:16:25.260297 return       5     return gcd(b, a % b)\n",
      "    Return value:.. 2\n",
      "15:16:25.260425 return       5     return gcd(b, a % b)\n",
      "Return value:.. 2\n"
     ]
    },
    {
     "data": {
      "text/plain": [
       "2"
      ]
     },
     "execution_count": 10,
     "metadata": {},
     "output_type": "execute_result"
    }
   ],
   "source": [
    "gcd(8, 14)"
   ]
  },
  {
   "cell_type": "code",
   "execution_count": 11,
   "metadata": {},
   "outputs": [],
   "source": [
    "@pysnooper.snoop()\n",
    "def fib(n):\n",
    "    if n == 0 or n == 1:\n",
    "        return 1\n",
    "    return fib(n - 1) + fib(n - 2)"
   ]
  },
  {
   "cell_type": "code",
   "execution_count": 13,
   "metadata": {},
   "outputs": [
    {
     "name": "stderr",
     "output_type": "stream",
     "text": [
      "Starting var:.. n = 4\n",
      "15:17:24.749257 call         2 def fib(n):\n",
      "15:17:24.749375 line         3     if n == 0 or n == 1:\n",
      "15:17:24.749447 line         5     return fib(n - 1) + fib(n - 2)\n",
      "    Starting var:.. n = 3\n",
      "    15:17:24.749657 call         2 def fib(n):\n",
      "    15:17:24.749799 line         3     if n == 0 or n == 1:\n",
      "    15:17:24.749900 line         5     return fib(n - 1) + fib(n - 2)\n",
      "        Starting var:.. n = 2\n",
      "        15:17:24.750381 call         2 def fib(n):\n",
      "        15:17:24.750481 line         3     if n == 0 or n == 1:\n",
      "        15:17:24.750568 line         5     return fib(n - 1) + fib(n - 2)\n",
      "            Starting var:.. n = 1\n",
      "            15:17:24.750747 call         2 def fib(n):\n",
      "            15:17:24.750844 line         3     if n == 0 or n == 1:\n",
      "            15:17:24.750920 line         4         return 1\n",
      "            15:17:24.751017 return       4         return 1\n",
      "            Return value:.. 1\n",
      "            Starting var:.. n = 0\n",
      "            15:17:24.751469 call         2 def fib(n):\n",
      "            15:17:24.751567 line         3     if n == 0 or n == 1:\n",
      "            15:17:24.751684 line         4         return 1\n",
      "            15:17:24.751773 return       4         return 1\n",
      "            Return value:.. 1\n",
      "        15:17:24.752043 return       5     return fib(n - 1) + fib(n - 2)\n",
      "        Return value:.. 2\n",
      "        Starting var:.. n = 1\n",
      "        15:17:24.752274 call         2 def fib(n):\n",
      "        15:17:24.752381 line         3     if n == 0 or n == 1:\n",
      "        15:17:24.752457 line         4         return 1\n",
      "        15:17:24.752543 return       4         return 1\n",
      "        Return value:.. 1\n",
      "    15:17:24.752775 return       5     return fib(n - 1) + fib(n - 2)\n",
      "    Return value:.. 3\n",
      "    Starting var:.. n = 2\n",
      "    15:17:24.753115 call         2 def fib(n):\n",
      "    15:17:24.753297 line         3     if n == 0 or n == 1:\n",
      "    15:17:24.753448 line         5     return fib(n - 1) + fib(n - 2)\n",
      "        Starting var:.. n = 1\n",
      "        15:17:24.753657 call         2 def fib(n):\n",
      "        15:17:24.753826 line         3     if n == 0 or n == 1:\n",
      "        15:17:24.753974 line         4         return 1\n",
      "        15:17:24.754131 return       4         return 1\n",
      "        Return value:.. 1\n",
      "        Starting var:.. n = 0\n",
      "        15:17:24.754680 call         2 def fib(n):\n",
      "        15:17:24.754996 line         3     if n == 0 or n == 1:\n",
      "        15:17:24.755159 line         4         return 1\n",
      "        15:17:24.755366 return       4         return 1\n",
      "        Return value:.. 1\n",
      "    15:17:24.755814 return       5     return fib(n - 1) + fib(n - 2)\n",
      "    Return value:.. 2\n",
      "15:17:24.756112 return       5     return fib(n - 1) + fib(n - 2)\n",
      "Return value:.. 5\n"
     ]
    },
    {
     "data": {
      "text/plain": [
       "5"
      ]
     },
     "execution_count": 13,
     "metadata": {},
     "output_type": "execute_result"
    }
   ],
   "source": [
    "fib(4)"
   ]
  },
  {
   "cell_type": "code",
   "execution_count": 14,
   "metadata": {},
   "outputs": [],
   "source": [
    "def func():\n",
    "    ls = []\n",
    "    for i in range(10):\n",
    "        with pysnooper.snoop():\n",
    "            ls.append(i)\n",
    "    "
   ]
  },
  {
   "cell_type": "code",
   "execution_count": 15,
   "metadata": {},
   "outputs": [
    {
     "name": "stderr",
     "output_type": "stream",
     "text": [
      "New var:....... ls = []\n",
      "New var:....... i = 0\n",
      "15:18:31.933961 line         5             ls.append(i)\n",
      "New var:....... ls = [0]\n",
      "New var:....... i = 1\n",
      "15:18:31.934240 line         4         with pysnooper.snoop():\n",
      "15:18:31.934313 line         5             ls.append(i)\n",
      "New var:....... ls = [0, 1]\n",
      "New var:....... i = 2\n",
      "15:18:31.934518 line         4         with pysnooper.snoop():\n",
      "15:18:31.934598 line         5             ls.append(i)\n",
      "New var:....... ls = [0, 1, 2]\n",
      "New var:....... i = 3\n",
      "15:18:31.934727 line         4         with pysnooper.snoop():\n",
      "15:18:31.934768 line         5             ls.append(i)\n",
      "New var:....... ls = [0, 1, 2, 3]\n",
      "New var:....... i = 4\n",
      "15:18:31.934875 line         4         with pysnooper.snoop():\n",
      "15:18:31.934963 line         5             ls.append(i)\n",
      "New var:....... ls = [0, 1, 2, 3, 4]\n",
      "New var:....... i = 5\n",
      "15:18:31.935071 line         4         with pysnooper.snoop():\n",
      "15:18:31.935118 line         5             ls.append(i)\n",
      "New var:....... ls = [0, 1, 2, 3, 4, 5]\n",
      "New var:....... i = 6\n",
      "15:18:31.935226 line         4         with pysnooper.snoop():\n",
      "15:18:31.935273 line         5             ls.append(i)\n",
      "New var:....... ls = [0, 1, 2, 3, 4, 5, 6]\n",
      "New var:....... i = 7\n",
      "15:18:31.935406 line         4         with pysnooper.snoop():\n",
      "15:18:31.935488 line         5             ls.append(i)\n",
      "New var:....... ls = [0, 1, 2, 3, 4, 5, 6, 7]\n",
      "New var:....... i = 8\n",
      "15:18:31.935618 line         4         with pysnooper.snoop():\n",
      "15:18:31.935665 line         5             ls.append(i)\n",
      "New var:....... ls = [0, 1, 2, 3, 4, 5, 6, 7, 8]\n",
      "New var:....... i = 9\n",
      "15:18:31.935779 line         4         with pysnooper.snoop():\n",
      "15:18:31.935888 line         5             ls.append(i)\n"
     ]
    }
   ],
   "source": [
    "func()"
   ]
  },
  {
   "cell_type": "code",
   "execution_count": 16,
   "metadata": {},
   "outputs": [],
   "source": [
    "# to redirect\n",
    "# @pysnooper.snoop('/my/log/file.log')"
   ]
  },
  {
   "cell_type": "code",
   "execution_count": null,
   "metadata": {},
   "outputs": [],
   "source": []
  }
 ],
 "metadata": {
  "kernelspec": {
   "display_name": "Python 3",
   "language": "python",
   "name": "python3"
  },
  "language_info": {
   "codemirror_mode": {
    "name": "ipython",
    "version": 3
   },
   "file_extension": ".py",
   "mimetype": "text/x-python",
   "name": "python",
   "nbconvert_exporter": "python",
   "pygments_lexer": "ipython3",
   "version": "3.7.3"
  }
 },
 "nbformat": 4,
 "nbformat_minor": 2
}
